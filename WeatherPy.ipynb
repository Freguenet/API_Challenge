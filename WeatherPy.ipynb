{
 "cells": [
  {
   "cell_type": "markdown",
   "metadata": {},
   "source": [
    "# WeatherPy\n",
    "----\n",
    "\n",
    "### Analysis\n",
    "* As expected, the weather becomes significantly warmer as one approaches the equator (0 Deg. Latitude). More interestingly, however, is the fact that the southern hemisphere tends to be warmer this time of year than the northern hemisphere. This may be due to the tilt of the earth.\n",
    "* There is no strong relationship between latitude and cloudiness. However, it is interesting to see that a strong band of cities sits at 0, 80, and 100% cloudiness.\n",
    "* There is no strong relationship between latitude and wind speed. However, in northern hemispheres there is a flurry of cities with over 20 mph of wind.\n"
   ]
  },
  {
   "cell_type": "code",
   "execution_count": 1,
   "metadata": {
    "scrolled": true
   },
   "outputs": [],
   "source": [
    "# Dependencies and Setup\n",
    "import matplotlib.pyplot as plt\n",
    "import pandas as pd\n",
    "import numpy as np\n",
    "import requests\n",
    "from datetime import datetime\n",
    "\n",
    "# Import API key\n",
    "from api_keys import api_key\n",
    "\n",
    "# Incorporated citipy to determine city based on latitude and longitude\n",
    "from citipy import citipy\n",
    "\n",
    "# Output File (CSV)\n",
    "output_data_file = \"output_data/cities.csv\"\n",
    "\n",
    "# Range of latitudes and longitudes\n",
    "lat_range = (-90, 90)\n",
    "lng_range = (-180, 180)"
   ]
  },
  {
   "cell_type": "markdown",
   "metadata": {},
   "source": [
    "## Generate Cities List"
   ]
  },
  {
   "cell_type": "code",
   "execution_count": 2,
   "metadata": {},
   "outputs": [
    {
     "name": "stdout",
     "output_type": "stream",
     "text": [
      "['hambantota', 'meadow lake', 'barentsburg', 'neosho', 'amahai', 'taolanaro', 'manbij', 'mugur-aksy', 'aswan', 'leningradskiy', 'mataura', 'vaini', 'puerto ayora', 'pathein', 'yeroham', 'albany', 'asau', 'busselton', 'new norfolk', 'tiksi', 'sinnamary', 'saint-philippe', 'hobart', 'punta arenas', 'rikitea', 'narsaq', 'kurtamysh', 'nanortalik', 'karratha', 'severnyy-kospashskiy', 'east london', 'cabo san lucas', 'valiug', 'sur', 'yellowknife', 'vila franca do campo', 'lompoc', 'sao filipe', 'yertsevo', 'tsienyane', 'khasan', 'cape town', 'denpasar', 'talnakh', 'khatanga', 'bluff', 'arraial do cabo', 'kondopoga', 'georgetown', 'cherskiy', 'tazovskiy', 'hermanus', 'canto do buriti', 'ushuaia', 'mareeba', 'thompson', 'san patricio', 'ambunti', 'bredasdorp', 'port alfred', 'victoria', 'port blair', 'ribeira grande', 'linjiang', 'killybegs', 'jamestown', 'provideniya', 'puerto carreno', 'saskylakh', 'flinders', 'beringovskiy', 'lavrentiya', 'havoysund', 'avera', 'yeppoon', 'tomatlan', 'paso de los toros', 'tasiilaq', 'nizhneyansk', 'ambon', 'rauma', 'lumeje', 'mokhsogollokh', 'olafsvik', 'kodiak', 'dikson', 'egvekinot', 'san quintin', 'daru', 'mahebourg', 'lasa', 'kralendijk', 'alofi', 'lebu', 'vaitupu', 'upernavik', 'souillac', 'anadyr', 'muros', 'roald', 'qaanaaq', 'kruisfontein', 'avarua', 'mys shmidta', 'kattivakkam', 'ilulissat', 'bilma', 'rezekne', 'rocha', 'saleaula', 'hovd', 'caucaia', 'ouesso', 'atuona', 'sawtell', 'longyearbyen', 'shingu', 'buala', 'antofagasta', 'deputatskiy', 'tsihombe', 'acuna', 'marawi', 'la ronge', 'bethel', 'jalu', 'sao joao da barra', 'port hedland', 'padang', 'kapaa', 'severo-kurilsk', 'qasigiannguit', 'beloha', 'bumba', 'constantine', 'sharjah', 'markdorf', 'blythe', 'marsh harbour', 'norman wells', 'antalaha', 'malatya', 'cockburn town', 'flin flon', 'sokode', 'hithadhoo', 'lucea', 'moussoro', 'lorengau', 'los lunas', 'airai', 'dingle', 'carutapera', 'karangasem', 'port-gentil', 'te anau', 'mar del plata', 'kahului', 'ballina', 'sarakhs', 'berdigestyakh', 'malwan', 'gamba', 'butaritari', 'samalaeulu', 'sentyabrskiy', 'majene', 'hilo', 'parana', 'conselheiro lafaiete', 'clyde river', 'torbay', 'nikolskoye', 'dunedin', 'kulhudhuffushi', 'galle', 'yar-sale', 'san-pedro', 'kieta', 'vila velha', 'san cristobal', 'aloleng', 'lengshuijiang', 'summerland', 'lubu', 'taoudenni', 'tuktoyaktuk', 'ishinomaki', 'palabuhanratu', 'mogadishu', 'los llanos de aridane', 'vagur', 'ngukurr', 'quatre cocos', 'tuatapere', 'karamea', 'pochutla', 'zhigansk', 'milingimbi', 'umzimvubu', 'grand river south east', 'tanggu', 'hofn', 'castro', 'vardo', 'saldanha', 'abu dhabi', 'nacozari', 'chuy', 'puerto baquerizo moreno', 'saryshagan', 'maceio', 'alekseyevka', 'vieux fort', 'port elizabeth', 'pringsewu', 'jenks', 'menongue', 'ostrovnoy', 'surt', 'esna', 'turayf', 'barrow', 'srednekolymsk', 'maracacume', 'richards bay', 'saint-joseph', 'gushikawa', 'copiapo', 'umm lajj', 'lulea', 'kucove', 'yulara', 'yarada', 'kavieng', 'svetlyy', 'bengkulu', 'ternate', 'outlook', 'bayan', 'campbell river', 'halifax', 'navoi', 'troitskoye', 'turukhansk', 'porto santo', 'prainha', 'barcelona', 'roma', 'chengmai', 'cidreira', 'mandalgovi', 'san bartolo', 'broome', 'kangaatsiaq', 'tomohon', 'fairbanks', 'nizhniy kuranakh', 'ponta do sol', 'elliot', 'sterling', 'north battleford', 'wuning', 'klaksvik', 'fortuna', 'cliza', 'geraldton', 'qaqortoq', 'arlit', 'tongchuan', 'port macquarie', 'chapais', 'illoqqortoormiut', 'aracati', 'gyorszemere', 'chapleau', 'quelimane', 'touros', 'sciacca', 'san policarpo', 'iquitos', 'chokurdakh', 'hasaki', 'college', 'saint-pierre', 'tabiauea', 'samarai', 'mahalapye', 'icatu', 'lodwar', 'hualmay', 'bandar-e lengeh', 'rapar', 'belmonte', 'broken hill', 'bandarbeyla', 'guerrero negro', 'soe', 'ancud', 'faanui', 'nome', 'marcona', 'beisfjord', 'senanga', 'tianjin', 'walvis bay', 'leshukonskoye', 'galveston', 'kailua', 'jabiru']\n"
     ]
    }
   ],
   "source": [
    "# List for holding lat_lngs and cities\n",
    "lat_lngs = []\n",
    "cities = []\n",
    "\n",
    "# Create a set of random lat and lng combinations\n",
    "lats = np.random.uniform(low=-90.000, high=90.000, size=600)\n",
    "lngs = np.random.uniform(low=-180.000, high=180.000, size=600)\n",
    "lat_lngs = zip(lats, lngs)\n",
    "\n",
    "\n",
    "# Identify nearest city for each lat, lng combination\n",
    "for lat_lng in lat_lngs:\n",
    "    city = citipy.nearest_city(lat_lng[0], lat_lng[1]).city_name\n",
    "    \n",
    "    # If the city is unique, then add it to a our cities list\n",
    "    if city not in cities:\n",
    "        cities.append(city)\n",
    "\n",
    "# Print the city count to confirm sufficient count\n",
    "print(cities)\n",
    "url = \"http://api.openweathermap.org/data/2.5/weather?q=\"\n",
    "\n"
   ]
  },
  {
   "cell_type": "code",
   "execution_count": 3,
   "metadata": {
    "scrolled": true
   },
   "outputs": [
    {
     "data": {
      "text/html": [
       "<div>\n",
       "<style scoped>\n",
       "    .dataframe tbody tr th:only-of-type {\n",
       "        vertical-align: middle;\n",
       "    }\n",
       "\n",
       "    .dataframe tbody tr th {\n",
       "        vertical-align: top;\n",
       "    }\n",
       "\n",
       "    .dataframe thead th {\n",
       "        text-align: right;\n",
       "    }\n",
       "</style>\n",
       "<table border=\"1\" class=\"dataframe\">\n",
       "  <thead>\n",
       "    <tr style=\"text-align: right;\">\n",
       "      <th></th>\n",
       "      <th>Cities</th>\n",
       "      <th>Country</th>\n",
       "      <th>Max_Temp</th>\n",
       "      <th>Latitude</th>\n",
       "      <th>Longitude</th>\n",
       "      <th>Humidity_(%)</th>\n",
       "      <th>Cloudiness_(%)</th>\n",
       "      <th>Wind_Speed_(mph)</th>\n",
       "    </tr>\n",
       "  </thead>\n",
       "  <tbody>\n",
       "    <tr>\n",
       "      <th>0</th>\n",
       "      <td>hambantota</td>\n",
       "      <td></td>\n",
       "      <td></td>\n",
       "      <td></td>\n",
       "      <td></td>\n",
       "      <td></td>\n",
       "      <td></td>\n",
       "      <td></td>\n",
       "    </tr>\n",
       "    <tr>\n",
       "      <th>1</th>\n",
       "      <td>meadow lake</td>\n",
       "      <td></td>\n",
       "      <td></td>\n",
       "      <td></td>\n",
       "      <td></td>\n",
       "      <td></td>\n",
       "      <td></td>\n",
       "      <td></td>\n",
       "    </tr>\n",
       "    <tr>\n",
       "      <th>2</th>\n",
       "      <td>barentsburg</td>\n",
       "      <td></td>\n",
       "      <td></td>\n",
       "      <td></td>\n",
       "      <td></td>\n",
       "      <td></td>\n",
       "      <td></td>\n",
       "      <td></td>\n",
       "    </tr>\n",
       "    <tr>\n",
       "      <th>3</th>\n",
       "      <td>neosho</td>\n",
       "      <td></td>\n",
       "      <td></td>\n",
       "      <td></td>\n",
       "      <td></td>\n",
       "      <td></td>\n",
       "      <td></td>\n",
       "      <td></td>\n",
       "    </tr>\n",
       "    <tr>\n",
       "      <th>4</th>\n",
       "      <td>amahai</td>\n",
       "      <td></td>\n",
       "      <td></td>\n",
       "      <td></td>\n",
       "      <td></td>\n",
       "      <td></td>\n",
       "      <td></td>\n",
       "      <td></td>\n",
       "    </tr>\n",
       "  </tbody>\n",
       "</table>\n",
       "</div>"
      ],
      "text/plain": [
       "        Cities Country Max_Temp Latitude Longitude Humidity_(%)  \\\n",
       "0   hambantota                                                    \n",
       "1  meadow lake                                                    \n",
       "2  barentsburg                                                    \n",
       "3       neosho                                                    \n",
       "4       amahai                                                    \n",
       "\n",
       "  Cloudiness_(%) Wind_Speed_(mph)  \n",
       "0                                  \n",
       "1                                  \n",
       "2                                  \n",
       "3                                  \n",
       "4                                  "
      ]
     },
     "execution_count": 3,
     "metadata": {},
     "output_type": "execute_result"
    }
   ],
   "source": [
    "cities_df = pd.DataFrame(cities)\n",
    "cities_df.columns = [\"Cities\"]\n",
    "cities_df[\"Country\"] = \"\"\n",
    "cities_df[\"Max_Temp\"] = \"\"\n",
    "cities_df[\"Latitude\"] = \"\"\n",
    "cities_df[\"Longitude\"] = \"\"\n",
    "cities_df[\"Humidity_(%)\"] = \"\"\n",
    "cities_df[\"Cloudiness_(%)\"] = \"\"\n",
    "cities_df[\"Wind_Speed_(mph)\"] = \"\"\n",
    "cities_df.head()\n"
   ]
  },
  {
   "cell_type": "markdown",
   "metadata": {},
   "source": [
    "### Perform API Calls\n",
    "* Perform a weather check on each city using a series of successive API calls.\n",
    "* Include a print log of each city as it'sbeing processed (with the city number and city name).\n"
   ]
  },
  {
   "cell_type": "code",
   "execution_count": 4,
   "metadata": {},
   "outputs": [
    {
     "name": "stdout",
     "output_type": "stream",
     "text": [
      "Beginning Data Retrieval\n",
      "---------------------------\n",
      "Weather data for hambantota is being retreived.\n",
      "Weather data for meadow lake is being retreived.\n",
      "City not found. Skipping...\n",
      "Weather data for neosho is being retreived.\n",
      "Weather data for amahai is being retreived.\n",
      "City not found. Skipping...\n",
      "Weather data for manbij is being retreived.\n",
      "Weather data for mugur-aksy is being retreived.\n",
      "Weather data for aswan is being retreived.\n",
      "Weather data for leningradskiy is being retreived.\n",
      "Weather data for mataura is being retreived.\n",
      "Weather data for vaini is being retreived.\n",
      "Weather data for puerto ayora is being retreived.\n",
      "Weather data for pathein is being retreived.\n",
      "Weather data for yeroham is being retreived.\n",
      "Weather data for albany is being retreived.\n",
      "City not found. Skipping...\n",
      "Weather data for busselton is being retreived.\n",
      "Weather data for new norfolk is being retreived.\n",
      "Weather data for tiksi is being retreived.\n",
      "Weather data for sinnamary is being retreived.\n",
      "Weather data for saint-philippe is being retreived.\n",
      "Weather data for hobart is being retreived.\n",
      "Weather data for punta arenas is being retreived.\n",
      "Weather data for rikitea is being retreived.\n",
      "Weather data for narsaq is being retreived.\n",
      "Weather data for kurtamysh is being retreived.\n",
      "Weather data for nanortalik is being retreived.\n",
      "Weather data for karratha is being retreived.\n",
      "Weather data for severnyy-kospashskiy is being retreived.\n",
      "Weather data for east london is being retreived.\n",
      "Weather data for cabo san lucas is being retreived.\n",
      "City not found. Skipping...\n",
      "Weather data for sur is being retreived.\n",
      "Weather data for yellowknife is being retreived.\n",
      "Weather data for vila franca do campo is being retreived.\n",
      "Weather data for lompoc is being retreived.\n",
      "Weather data for sao filipe is being retreived.\n",
      "Weather data for yertsevo is being retreived.\n",
      "City not found. Skipping...\n",
      "Weather data for khasan is being retreived.\n",
      "Weather data for cape town is being retreived.\n",
      "Weather data for denpasar is being retreived.\n",
      "Weather data for talnakh is being retreived.\n",
      "Weather data for khatanga is being retreived.\n",
      "Weather data for bluff is being retreived.\n",
      "Weather data for arraial do cabo is being retreived.\n",
      "Weather data for kondopoga is being retreived.\n",
      "Weather data for georgetown is being retreived.\n",
      "Weather data for cherskiy is being retreived.\n",
      "Weather data for tazovskiy is being retreived.\n",
      "Weather data for hermanus is being retreived.\n",
      "Weather data for canto do buriti is being retreived.\n",
      "Weather data for ushuaia is being retreived.\n",
      "Weather data for mareeba is being retreived.\n",
      "Weather data for thompson is being retreived.\n",
      "Weather data for san patricio is being retreived.\n",
      "Weather data for ambunti is being retreived.\n",
      "Weather data for bredasdorp is being retreived.\n",
      "Weather data for port alfred is being retreived.\n",
      "Weather data for victoria is being retreived.\n",
      "Weather data for port blair is being retreived.\n",
      "Weather data for ribeira grande is being retreived.\n",
      "Weather data for linjiang is being retreived.\n",
      "Weather data for killybegs is being retreived.\n",
      "Weather data for jamestown is being retreived.\n",
      "Weather data for provideniya is being retreived.\n",
      "Weather data for puerto carreno is being retreived.\n",
      "Weather data for saskylakh is being retreived.\n",
      "Weather data for flinders is being retreived.\n",
      "Weather data for beringovskiy is being retreived.\n",
      "Weather data for lavrentiya is being retreived.\n",
      "Weather data for havoysund is being retreived.\n",
      "Weather data for avera is being retreived.\n",
      "Weather data for yeppoon is being retreived.\n",
      "Weather data for tomatlan is being retreived.\n",
      "Weather data for paso de los toros is being retreived.\n",
      "Weather data for tasiilaq is being retreived.\n",
      "City not found. Skipping...\n",
      "Weather data for ambon is being retreived.\n",
      "Weather data for rauma is being retreived.\n",
      "Weather data for lumeje is being retreived.\n",
      "Weather data for mokhsogollokh is being retreived.\n",
      "City not found. Skipping...\n",
      "Weather data for kodiak is being retreived.\n",
      "Weather data for dikson is being retreived.\n",
      "Weather data for egvekinot is being retreived.\n",
      "Weather data for san quintin is being retreived.\n",
      "Weather data for daru is being retreived.\n",
      "Weather data for mahebourg is being retreived.\n",
      "Weather data for lasa is being retreived.\n",
      "Weather data for kralendijk is being retreived.\n",
      "Weather data for alofi is being retreived.\n",
      "Weather data for lebu is being retreived.\n",
      "City not found. Skipping...\n",
      "Weather data for upernavik is being retreived.\n",
      "Weather data for souillac is being retreived.\n",
      "Weather data for anadyr is being retreived.\n",
      "Weather data for muros is being retreived.\n",
      "Weather data for roald is being retreived.\n",
      "Weather data for qaanaaq is being retreived.\n",
      "Weather data for kruisfontein is being retreived.\n",
      "Weather data for avarua is being retreived.\n",
      "City not found. Skipping...\n",
      "Weather data for kattivakkam is being retreived.\n",
      "Weather data for ilulissat is being retreived.\n",
      "Weather data for bilma is being retreived.\n",
      "Weather data for rezekne is being retreived.\n",
      "Weather data for rocha is being retreived.\n",
      "City not found. Skipping...\n",
      "Weather data for hovd is being retreived.\n",
      "Weather data for caucaia is being retreived.\n",
      "Weather data for ouesso is being retreived.\n",
      "Weather data for atuona is being retreived.\n",
      "Weather data for sawtell is being retreived.\n",
      "Weather data for longyearbyen is being retreived.\n",
      "Weather data for shingu is being retreived.\n",
      "Weather data for buala is being retreived.\n",
      "Weather data for antofagasta is being retreived.\n",
      "Weather data for deputatskiy is being retreived.\n",
      "City not found. Skipping...\n",
      "City not found. Skipping...\n",
      "Weather data for marawi is being retreived.\n",
      "Weather data for la ronge is being retreived.\n",
      "Weather data for bethel is being retreived.\n",
      "Weather data for jalu is being retreived.\n",
      "Weather data for sao joao da barra is being retreived.\n",
      "Weather data for port hedland is being retreived.\n",
      "Weather data for padang is being retreived.\n",
      "Weather data for kapaa is being retreived.\n",
      "Weather data for severo-kurilsk is being retreived.\n",
      "Weather data for qasigiannguit is being retreived.\n",
      "Weather data for beloha is being retreived.\n",
      "Weather data for bumba is being retreived.\n",
      "Weather data for constantine is being retreived.\n",
      "Weather data for sharjah is being retreived.\n",
      "Weather data for markdorf is being retreived.\n",
      "Weather data for blythe is being retreived.\n",
      "Weather data for marsh harbour is being retreived.\n",
      "Weather data for norman wells is being retreived.\n",
      "Weather data for antalaha is being retreived.\n",
      "City not found. Skipping...\n",
      "Weather data for cockburn town is being retreived.\n",
      "Weather data for flin flon is being retreived.\n",
      "Weather data for sokode is being retreived.\n",
      "Weather data for hithadhoo is being retreived.\n",
      "Weather data for lucea is being retreived.\n",
      "Weather data for moussoro is being retreived.\n",
      "Weather data for lorengau is being retreived.\n",
      "Weather data for los lunas is being retreived.\n",
      "Weather data for airai is being retreived.\n",
      "Weather data for dingle is being retreived.\n",
      "Weather data for carutapera is being retreived.\n",
      "Weather data for karangasem is being retreived.\n",
      "Weather data for port-gentil is being retreived.\n",
      "Weather data for te anau is being retreived.\n",
      "Weather data for mar del plata is being retreived.\n",
      "Weather data for kahului is being retreived.\n",
      "Weather data for ballina is being retreived.\n",
      "Weather data for sarakhs is being retreived.\n",
      "Weather data for berdigestyakh is being retreived.\n",
      "City not found. Skipping...\n",
      "Weather data for gamba is being retreived.\n",
      "Weather data for butaritari is being retreived.\n",
      "City not found. Skipping...\n",
      "City not found. Skipping...\n",
      "Weather data for majene is being retreived.\n",
      "Weather data for hilo is being retreived.\n",
      "Weather data for parana is being retreived.\n",
      "Weather data for conselheiro lafaiete is being retreived.\n",
      "Weather data for clyde river is being retreived.\n",
      "Weather data for torbay is being retreived.\n",
      "Weather data for nikolskoye is being retreived.\n",
      "Weather data for dunedin is being retreived.\n",
      "Weather data for kulhudhuffushi is being retreived.\n",
      "Weather data for galle is being retreived.\n",
      "Weather data for yar-sale is being retreived.\n",
      "Weather data for san-pedro is being retreived.\n",
      "Weather data for kieta is being retreived.\n",
      "Weather data for vila velha is being retreived.\n",
      "Weather data for san cristobal is being retreived.\n",
      "Weather data for aloleng is being retreived.\n"
     ]
    },
    {
     "name": "stdout",
     "output_type": "stream",
     "text": [
      "Weather data for lengshuijiang is being retreived.\n",
      "Weather data for summerland is being retreived.\n",
      "Weather data for lubu is being retreived.\n",
      "Weather data for taoudenni is being retreived.\n",
      "Weather data for tuktoyaktuk is being retreived.\n",
      "Weather data for ishinomaki is being retreived.\n",
      "City not found. Skipping...\n",
      "Weather data for mogadishu is being retreived.\n",
      "Weather data for los llanos de aridane is being retreived.\n",
      "Weather data for vagur is being retreived.\n",
      "City not found. Skipping...\n",
      "Weather data for quatre cocos is being retreived.\n",
      "Weather data for tuatapere is being retreived.\n",
      "City not found. Skipping...\n",
      "Weather data for pochutla is being retreived.\n",
      "Weather data for zhigansk is being retreived.\n",
      "City not found. Skipping...\n",
      "City not found. Skipping...\n",
      "City not found. Skipping...\n",
      "City not found. Skipping...\n",
      "Weather data for hofn is being retreived.\n",
      "Weather data for castro is being retreived.\n",
      "Weather data for vardo is being retreived.\n",
      "Weather data for saldanha is being retreived.\n",
      "Weather data for abu dhabi is being retreived.\n",
      "Weather data for nacozari is being retreived.\n",
      "Weather data for chuy is being retreived.\n",
      "Weather data for puerto baquerizo moreno is being retreived.\n",
      "City not found. Skipping...\n",
      "Weather data for maceio is being retreived.\n",
      "Weather data for alekseyevka is being retreived.\n",
      "Weather data for vieux fort is being retreived.\n",
      "Weather data for port elizabeth is being retreived.\n",
      "Weather data for pringsewu is being retreived.\n",
      "Weather data for jenks is being retreived.\n",
      "Weather data for menongue is being retreived.\n",
      "Weather data for ostrovnoy is being retreived.\n",
      "Weather data for surt is being retreived.\n",
      "Weather data for esna is being retreived.\n",
      "Weather data for turayf is being retreived.\n",
      "Weather data for barrow is being retreived.\n",
      "Weather data for srednekolymsk is being retreived.\n",
      "Weather data for maracacume is being retreived.\n",
      "Weather data for richards bay is being retreived.\n",
      "Weather data for saint-joseph is being retreived.\n",
      "Weather data for gushikawa is being retreived.\n",
      "Weather data for copiapo is being retreived.\n",
      "Weather data for umm lajj is being retreived.\n",
      "Weather data for lulea is being retreived.\n",
      "Weather data for kucove is being retreived.\n",
      "Weather data for yulara is being retreived.\n",
      "Weather data for yarada is being retreived.\n",
      "Weather data for kavieng is being retreived.\n",
      "City not found. Skipping...\n",
      "City not found. Skipping...\n",
      "Weather data for ternate is being retreived.\n",
      "Weather data for outlook is being retreived.\n",
      "Weather data for bayan is being retreived.\n",
      "Weather data for campbell river is being retreived.\n",
      "Weather data for halifax is being retreived.\n",
      "Weather data for navoi is being retreived.\n",
      "Weather data for troitskoye is being retreived.\n",
      "Weather data for turukhansk is being retreived.\n",
      "City not found. Skipping...\n",
      "Weather data for prainha is being retreived.\n",
      "Weather data for barcelona is being retreived.\n",
      "Weather data for roma is being retreived.\n",
      "City not found. Skipping...\n",
      "Weather data for cidreira is being retreived.\n",
      "Weather data for mandalgovi is being retreived.\n",
      "Weather data for san bartolo is being retreived.\n",
      "Weather data for broome is being retreived.\n",
      "Weather data for kangaatsiaq is being retreived.\n",
      "Weather data for tomohon is being retreived.\n",
      "Weather data for fairbanks is being retreived.\n",
      "Weather data for nizhniy kuranakh is being retreived.\n",
      "Weather data for ponta do sol is being retreived.\n",
      "Weather data for elliot is being retreived.\n",
      "Weather data for sterling is being retreived.\n",
      "Weather data for north battleford is being retreived.\n",
      "Weather data for wuning is being retreived.\n",
      "Weather data for klaksvik is being retreived.\n",
      "Weather data for fortuna is being retreived.\n",
      "Weather data for cliza is being retreived.\n",
      "Weather data for geraldton is being retreived.\n",
      "Weather data for qaqortoq is being retreived.\n",
      "Weather data for arlit is being retreived.\n",
      "Weather data for tongchuan is being retreived.\n",
      "Weather data for port macquarie is being retreived.\n",
      "Weather data for chapais is being retreived.\n",
      "City not found. Skipping...\n",
      "Weather data for aracati is being retreived.\n",
      "Weather data for gyorszemere is being retreived.\n",
      "Weather data for chapleau is being retreived.\n",
      "Weather data for quelimane is being retreived.\n",
      "Weather data for touros is being retreived.\n",
      "Weather data for sciacca is being retreived.\n",
      "Weather data for san policarpo is being retreived.\n",
      "Weather data for iquitos is being retreived.\n",
      "Weather data for chokurdakh is being retreived.\n",
      "Weather data for hasaki is being retreived.\n",
      "Weather data for college is being retreived.\n",
      "Weather data for saint-pierre is being retreived.\n",
      "City not found. Skipping...\n",
      "Weather data for samarai is being retreived.\n",
      "Weather data for mahalapye is being retreived.\n",
      "Weather data for icatu is being retreived.\n",
      "Weather data for lodwar is being retreived.\n",
      "Weather data for hualmay is being retreived.\n",
      "Weather data for bandar-e lengeh is being retreived.\n",
      "Weather data for rapar is being retreived.\n",
      "Weather data for belmonte is being retreived.\n",
      "Weather data for broken hill is being retreived.\n",
      "Weather data for bandarbeyla is being retreived.\n",
      "Weather data for guerrero negro is being retreived.\n",
      "Weather data for soe is being retreived.\n",
      "Weather data for ancud is being retreived.\n",
      "Weather data for faanui is being retreived.\n",
      "Weather data for nome is being retreived.\n",
      "City not found. Skipping...\n",
      "Weather data for beisfjord is being retreived.\n",
      "Weather data for senanga is being retreived.\n",
      "Weather data for tianjin is being retreived.\n",
      "Weather data for walvis bay is being retreived.\n",
      "Weather data for leshukonskoye is being retreived.\n",
      "Weather data for galveston is being retreived.\n",
      "Weather data for kailua is being retreived.\n",
      "City not found. Skipping...\n"
     ]
    }
   ],
   "source": [
    "url = \"http://api.openweathermap.org/data/2.5/weather?q=\"\n",
    "\n",
    "# Processing Record 1 of Set 1 | lompoc\n",
    "\n",
    "print(\"Beginning Data Retrieval\")\n",
    "print(\"---------------------------\")\n",
    "for index, row in cities_df.iterrows():\n",
    "    city_data = row[\"Cities\"]\n",
    "    weather_url = requests.get(f\"{url}{city_data}&APPID={api_key}\")\n",
    "    response = weather_url.json()\n",
    "    \n",
    "    if response[\"cod\"] == \"404\":\n",
    "        print(\"City not found. Skipping...\")\n",
    "    \n",
    "    else:\n",
    "        print(f\"Weather data for {city_data} is being retreived.\")\n",
    "        cities_df.loc[index, \"Cities\"] = response[\"name\"]\n",
    "        cities_df.loc[index, \"Country\"] = response[\"sys\"][\"country\"]\n",
    "        cities_df.loc[index, \"Max_Temp\"] = response[\"main\"][\"temp_max\"]\n",
    "        cities_df.loc[index, \"Latitude\"] = response[\"coord\"][\"lat\"]\n",
    "        cities_df.loc[index, \"Longitude\"] = response[\"coord\"][\"lon\"]\n",
    "        cities_df.loc[index, \"Humidity_(%)\"] = response[\"main\"][\"humidity\"]\n",
    "        cities_df.loc[index, \"Cloudiness_(%)\"] = response[\"clouds\"][\"all\"]\n",
    "        cities_df.loc[index, \"Wind_Speed_(mph)\"] = response[\"wind\"][\"speed\"]\n"
   ]
  },
  {
   "cell_type": "markdown",
   "metadata": {},
   "source": [
    "### Convert Raw Data to DataFrame\n",
    "* Export the city data into a .csv.\n",
    "* Display the DataFrame"
   ]
  },
  {
   "cell_type": "code",
   "execution_count": 5,
   "metadata": {
    "scrolled": true
   },
   "outputs": [
    {
     "data": {
      "text/html": [
       "<div>\n",
       "<style scoped>\n",
       "    .dataframe tbody tr th:only-of-type {\n",
       "        vertical-align: middle;\n",
       "    }\n",
       "\n",
       "    .dataframe tbody tr th {\n",
       "        vertical-align: top;\n",
       "    }\n",
       "\n",
       "    .dataframe thead th {\n",
       "        text-align: right;\n",
       "    }\n",
       "</style>\n",
       "<table border=\"1\" class=\"dataframe\">\n",
       "  <thead>\n",
       "    <tr style=\"text-align: right;\">\n",
       "      <th></th>\n",
       "      <th>Cities</th>\n",
       "      <th>Country</th>\n",
       "      <th>Max_Temp</th>\n",
       "      <th>Latitude</th>\n",
       "      <th>Longitude</th>\n",
       "      <th>Humidity_(%)</th>\n",
       "      <th>Cloudiness_(%)</th>\n",
       "      <th>Wind_Speed_(mph)</th>\n",
       "    </tr>\n",
       "  </thead>\n",
       "  <tbody>\n",
       "    <tr>\n",
       "      <th>0</th>\n",
       "      <td>Hambantota</td>\n",
       "      <td>LK</td>\n",
       "      <td>305.150</td>\n",
       "      <td>6.12</td>\n",
       "      <td>81.12</td>\n",
       "      <td>79</td>\n",
       "      <td>40</td>\n",
       "      <td>5.7</td>\n",
       "    </tr>\n",
       "    <tr>\n",
       "      <th>1</th>\n",
       "      <td>Meadow Lake</td>\n",
       "      <td>CA</td>\n",
       "      <td>272.068</td>\n",
       "      <td>54.13</td>\n",
       "      <td>-108.44</td>\n",
       "      <td>95</td>\n",
       "      <td>31</td>\n",
       "      <td>2.03</td>\n",
       "    </tr>\n",
       "    <tr>\n",
       "      <th>2</th>\n",
       "      <td>Neosho</td>\n",
       "      <td>US</td>\n",
       "      <td>280.150</td>\n",
       "      <td>43.31</td>\n",
       "      <td>-88.52</td>\n",
       "      <td>65</td>\n",
       "      <td>90</td>\n",
       "      <td>4.6</td>\n",
       "    </tr>\n",
       "    <tr>\n",
       "      <th>3</th>\n",
       "      <td>Amahai</td>\n",
       "      <td>ID</td>\n",
       "      <td>301.168</td>\n",
       "      <td>-3.31</td>\n",
       "      <td>129</td>\n",
       "      <td>75</td>\n",
       "      <td>100</td>\n",
       "      <td>4.83</td>\n",
       "    </tr>\n",
       "    <tr>\n",
       "      <th>4</th>\n",
       "      <td>Manbij</td>\n",
       "      <td>SY</td>\n",
       "      <td>295.370</td>\n",
       "      <td>36.53</td>\n",
       "      <td>37.96</td>\n",
       "      <td>53</td>\n",
       "      <td>40</td>\n",
       "      <td>1.5</td>\n",
       "    </tr>\n",
       "  </tbody>\n",
       "</table>\n",
       "</div>"
      ],
      "text/plain": [
       "        Cities Country  Max_Temp Latitude Longitude Humidity_(%)  \\\n",
       "0   Hambantota      LK   305.150     6.12     81.12           79   \n",
       "1  Meadow Lake      CA   272.068    54.13   -108.44           95   \n",
       "2       Neosho      US   280.150    43.31    -88.52           65   \n",
       "3       Amahai      ID   301.168    -3.31       129           75   \n",
       "4       Manbij      SY   295.370    36.53     37.96           53   \n",
       "\n",
       "  Cloudiness_(%) Wind_Speed_(mph)  \n",
       "0             40              5.7  \n",
       "1             31             2.03  \n",
       "2             90              4.6  \n",
       "3            100             4.83  \n",
       "4             40              1.5  "
      ]
     },
     "execution_count": 5,
     "metadata": {},
     "output_type": "execute_result"
    }
   ],
   "source": [
    "cities_df[\"Max_Temp\"].replace('', np.nan, inplace=True)\n",
    "clean_cities_df = cities_df.dropna()\n",
    "clean_cities_df = clean_cities_df.reset_index()\n",
    "del clean_cities_df['index']\n",
    "clean_cities_df.head()"
   ]
  },
  {
   "cell_type": "code",
   "execution_count": 6,
   "metadata": {},
   "outputs": [
    {
     "data": {
      "text/plain": [
       "Cities              0\n",
       "Country             0\n",
       "Max_Temp            0\n",
       "Latitude            0\n",
       "Longitude           0\n",
       "Humidity_(%)        0\n",
       "Cloudiness_(%)      0\n",
       "Wind_Speed_(mph)    0\n",
       "dtype: int64"
      ]
     },
     "execution_count": 6,
     "metadata": {},
     "output_type": "execute_result"
    }
   ],
   "source": [
    "clean_cities_df.isnull().sum()"
   ]
  },
  {
   "cell_type": "code",
   "execution_count": 7,
   "metadata": {
    "scrolled": true
   },
   "outputs": [],
   "source": [
    "clean_cities_df.to_csv(\"WeatherPy.csv\")"
   ]
  },
  {
   "cell_type": "markdown",
   "metadata": {},
   "source": [
    "### Plotting the Data\n",
    "* Use proper labeling of the plots using plot titles (including date of analysis) and axes labels.\n",
    "* Save the plotted figures as .pngs."
   ]
  },
  {
   "cell_type": "markdown",
   "metadata": {},
   "source": [
    "#### Latitude vs. Temperature Plot"
   ]
  },
  {
   "cell_type": "code",
   "execution_count": 8,
   "metadata": {},
   "outputs": [
    {
     "data": {
      "text/plain": [
       "<function matplotlib.pyplot.show(*args, **kw)>"
      ]
     },
     "execution_count": 8,
     "metadata": {},
     "output_type": "execute_result"
    },
    {
     "data": {
      "image/png": "[encoded data removed]",
      "text/plain": [
       "<Figure size 432x288 with 1 Axes>"
      ]
     },
     "metadata": {
      "needs_background": "light"
     },
     "output_type": "display_data"
    }
   ],
   "source": [
    "\n",
    "plt.scatter(clean_cities_df[\"Latitude\"], clean_cities_df[\"Max_Temp\"], alpha=1, label=\"City\", linewidths=1, cmap=\"plasma\")\n",
    "plt.title(f\"Latitude vs. Temperature Plot {datetime.now().strftime('%m/%d/%Y')}\")\n",
    "plt.ylabel(\"Max_Temp\")\n",
    "plt.xlabel(\"Latitude\")\n",
    "plt.xlim(lat_range)\n",
    "plt.grid(True, color=\"black\")\n",
    "plt.savefig(\"api_export/Latitude_Temperature.png\")\n",
    "plt.show\n"
   ]
  },
  {
   "cell_type": "markdown",
   "metadata": {},
   "source": [
    "#### Latitude vs. Humidity Plot"
   ]
  },
  {
   "cell_type": "code",
   "execution_count": 9,
   "metadata": {
    "scrolled": true
   },
   "outputs": [
    {
     "data": {
      "text/plain": [
       "<function matplotlib.pyplot.show(*args, **kw)>"
      ]
     },
     "execution_count": 9,
     "metadata": {},
     "output_type": "execute_result"
    },
    {
     "data": {
      "image/png": "[encoded data removed]",
      "text/plain": [
       "<Figure size 432x288 with 1 Axes>"
      ]
     },
     "metadata": {
      "needs_background": "light"
     },
     "output_type": "display_data"
    }
   ],
   "source": [
    "plt.scatter(clean_cities_df[\"Latitude\"], clean_cities_df[\"Humidity_(%)\"], alpha=1, label=\"City\", linewidths=1, cmap=\"plasma\")\n",
    "plt.title(f\"Latitude vs. Humidity Plot {datetime.now().strftime('%m/%d/%Y')}\")\n",
    "plt.ylabel(\"Humidity\")\n",
    "plt.xlabel(\"Latitude\")\n",
    "plt.xlim(lat_range)\n",
    "plt.grid(True, color=\"black\")\n",
    "plt.savefig(\"api_export/Latitude_Humidity.png\")\n",
    "plt.show\n"
   ]
  },
  {
   "cell_type": "markdown",
   "metadata": {},
   "source": [
    "#### Latitude vs. Cloudiness Plot"
   ]
  },
  {
   "cell_type": "code",
   "execution_count": 10,
   "metadata": {},
   "outputs": [
    {
     "data": {
      "text/plain": [
       "<function matplotlib.pyplot.show(*args, **kw)>"
      ]
     },
     "execution_count": 10,
     "metadata": {},
     "output_type": "execute_result"
    },
    {
     "data": {
      "image/png": "[encoded data removed]",
      "text/plain": [
       "<Figure size 432x288 with 1 Axes>"
      ]
     },
     "metadata": {
      "needs_background": "light"
     },
     "output_type": "display_data"
    }
   ],
   "source": [
    "plt.scatter(clean_cities_df[\"Latitude\"], clean_cities_df[\"Cloudiness_(%)\"], alpha=1, label=\"City\", linewidths=1, cmap=\"plasma\")\n",
    "plt.title(f\"Latitude vs. Cloudiness Plot {datetime.now().strftime('%m/%d/%Y')}\")\n",
    "plt.ylabel(\"Cloudiness\")\n",
    "plt.xlabel(\"Latitude\")\n",
    "plt.xlim(lat_range)\n",
    "plt.grid(True, color=\"black\")\n",
    "plt.savefig(\"api_export/Latitude_Cloudiness.png\")\n",
    "plt.show"
   ]
  },
  {
   "cell_type": "markdown",
   "metadata": {},
   "source": [
    "#### Latitude vs. Wind Speed Plot"
   ]
  },
  {
   "cell_type": "code",
   "execution_count": 11,
   "metadata": {},
   "outputs": [
    {
     "data": {
      "text/plain": [
       "<function matplotlib.pyplot.show(*args, **kw)>"
      ]
     },
     "execution_count": 11,
     "metadata": {},
     "output_type": "execute_result"
    },
    {
     "data": {
      "image/png": "[encoded data removed]",
      "text/plain": [
       "<Figure size 432x288 with 1 Axes>"
      ]
     },
     "metadata": {
      "needs_background": "light"
     },
     "output_type": "display_data"
    }
   ],
   "source": [
    "plt.scatter(clean_cities_df[\"Latitude\"], clean_cities_df[\"Wind_Speed_(mph)\"], alpha=1, label=\"City\", linewidths=1, cmap=\"plasma\")\n",
    "plt.title(f\"Latitude vs. Wind Speed {datetime.now().strftime('%m/%d/%Y')}\")\n",
    "plt.ylabel(\"Wind Speed\")\n",
    "plt.xlabel(\"Latitude\")\n",
    "plt.xlim(lat_range)\n",
    "plt.grid(True, color=\"black\")\n",
    "plt.savefig(\"api_export/Latitude_WindSpeed.png\")\n",
    "plt.show"
   ]
  },
  {
   "cell_type": "code",
   "execution_count": null,
   "metadata": {},
   "outputs": [],
   "source": []
  }
 ],
 "metadata": {
  "anaconda-cloud": {},
  "kernel_info": {
   "name": "python3"
  },
  "kernelspec": {
   "display_name": "Python 3",
   "language": "python",
   "name": "python3"
  },
  "language_info": {
   "codemirror_mode": {
    "name": "ipython",
    "version": 3
   },
   "file_extension": ".py",
   "mimetype": "text/x-python",
   "name": "python",
   "nbconvert_exporter": "python",
   "pygments_lexer": "ipython3",
   "version": "3.6.7"
  },
  "nteract": {
   "version": "0.12.3"
  }
 },
 "nbformat": 4,
 "nbformat_minor": 2
}
